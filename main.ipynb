{
 "cells": [
  {
   "cell_type": "code",
   "execution_count": 61,
   "metadata": {},
   "outputs": [],
   "source": [
    "import matplotlib.pyplot as plt\n",
    "import numpy as np\n",
    "import pandas as pd\n",
    "import statsmodels.api as sm\n",
    "\n",
    "from pypfopt.efficient_frontier import EfficientFrontier\n",
    "from sklearn.preprocessing import TargetEncoder\n",
    "from tslearn.clustering import TimeSeriesKMeans\n",
    "\n",
    "from pypfopt import risk_models, expected_returns, plotting\n",
    "from scipy.stats import f_oneway as anova, kruskal"
   ]
  },
  {
   "cell_type": "code",
   "execution_count": 62,
   "metadata": {},
   "outputs": [
    {
     "data": {
      "text/html": [
       "<div>\n",
       "<style scoped>\n",
       "    .dataframe tbody tr th:only-of-type {\n",
       "        vertical-align: middle;\n",
       "    }\n",
       "\n",
       "    .dataframe tbody tr th {\n",
       "        vertical-align: top;\n",
       "    }\n",
       "\n",
       "    .dataframe thead th {\n",
       "        text-align: right;\n",
       "    }\n",
       "</style>\n",
       "<table border=\"1\" class=\"dataframe\">\n",
       "  <thead>\n",
       "    <tr style=\"text-align: right;\">\n",
       "      <th></th>\n",
       "      <th></th>\n",
       "      <th>State</th>\n",
       "      <th>0</th>\n",
       "      <th>1</th>\n",
       "      <th>2</th>\n",
       "      <th>3</th>\n",
       "      <th>4</th>\n",
       "      <th>5</th>\n",
       "      <th>6</th>\n",
       "      <th>7</th>\n",
       "      <th>8</th>\n",
       "      <th>9</th>\n",
       "    </tr>\n",
       "    <tr>\n",
       "      <th>Ticker</th>\n",
       "      <th>Date</th>\n",
       "      <th></th>\n",
       "      <th></th>\n",
       "      <th></th>\n",
       "      <th></th>\n",
       "      <th></th>\n",
       "      <th></th>\n",
       "      <th></th>\n",
       "      <th></th>\n",
       "      <th></th>\n",
       "      <th></th>\n",
       "      <th></th>\n",
       "    </tr>\n",
       "  </thead>\n",
       "  <tbody>\n",
       "    <tr>\n",
       "      <th rowspan=\"5\" valign=\"top\">A</th>\n",
       "      <th>2013-07-08</th>\n",
       "      <td>CA</td>\n",
       "      <td>1.0</td>\n",
       "      <td>1.005410</td>\n",
       "      <td>1.021416</td>\n",
       "      <td>1.030658</td>\n",
       "      <td>1.031335</td>\n",
       "      <td>1.039450</td>\n",
       "      <td>1.034941</td>\n",
       "      <td>1.028179</td>\n",
       "      <td>1.034716</td>\n",
       "      <td>1.041479</td>\n",
       "    </tr>\n",
       "    <tr>\n",
       "      <th>2013-07-15</th>\n",
       "      <td>CA</td>\n",
       "      <td>1.0</td>\n",
       "      <td>0.995663</td>\n",
       "      <td>0.989156</td>\n",
       "      <td>0.995446</td>\n",
       "      <td>1.001952</td>\n",
       "      <td>1.014964</td>\n",
       "      <td>1.007807</td>\n",
       "      <td>1.014097</td>\n",
       "      <td>1.011928</td>\n",
       "      <td>0.988939</td>\n",
       "    </tr>\n",
       "    <tr>\n",
       "      <th>2013-07-22</th>\n",
       "      <td>CA</td>\n",
       "      <td>1.0</td>\n",
       "      <td>0.992949</td>\n",
       "      <td>0.999145</td>\n",
       "      <td>0.997009</td>\n",
       "      <td>0.974359</td>\n",
       "      <td>0.968803</td>\n",
       "      <td>0.958333</td>\n",
       "      <td>0.955769</td>\n",
       "      <td>0.983761</td>\n",
       "      <td>0.991026</td>\n",
       "    </tr>\n",
       "    <tr>\n",
       "      <th>2013-07-29</th>\n",
       "      <td>CA</td>\n",
       "      <td>1.0</td>\n",
       "      <td>0.989193</td>\n",
       "      <td>0.986546</td>\n",
       "      <td>1.015439</td>\n",
       "      <td>1.022938</td>\n",
       "      <td>1.013233</td>\n",
       "      <td>1.016321</td>\n",
       "      <td>1.020732</td>\n",
       "      <td>1.011248</td>\n",
       "      <td>1.019409</td>\n",
       "    </tr>\n",
       "    <tr>\n",
       "      <th>2013-08-05</th>\n",
       "      <td>CA</td>\n",
       "      <td>1.0</td>\n",
       "      <td>1.003047</td>\n",
       "      <td>1.007401</td>\n",
       "      <td>0.998041</td>\n",
       "      <td>1.006095</td>\n",
       "      <td>1.011101</td>\n",
       "      <td>1.021332</td>\n",
       "      <td>1.012408</td>\n",
       "      <td>1.022203</td>\n",
       "      <td>1.018502</td>\n",
       "    </tr>\n",
       "    <tr>\n",
       "      <th>...</th>\n",
       "      <th>...</th>\n",
       "      <td>...</td>\n",
       "      <td>...</td>\n",
       "      <td>...</td>\n",
       "      <td>...</td>\n",
       "      <td>...</td>\n",
       "      <td>...</td>\n",
       "      <td>...</td>\n",
       "      <td>...</td>\n",
       "      <td>...</td>\n",
       "      <td>...</td>\n",
       "      <td>...</td>\n",
       "    </tr>\n",
       "    <tr>\n",
       "      <th rowspan=\"5\" valign=\"top\">ZYXI</th>\n",
       "      <th>2023-04-24</th>\n",
       "      <td>CO</td>\n",
       "      <td>1.0</td>\n",
       "      <td>0.976231</td>\n",
       "      <td>0.947368</td>\n",
       "      <td>0.956706</td>\n",
       "      <td>0.971138</td>\n",
       "      <td>1.132428</td>\n",
       "      <td>1.218166</td>\n",
       "      <td>1.235993</td>\n",
       "      <td>0.795416</td>\n",
       "      <td>0.795416</td>\n",
       "    </tr>\n",
       "    <tr>\n",
       "      <th>2023-05-01</th>\n",
       "      <td>CO</td>\n",
       "      <td>1.0</td>\n",
       "      <td>1.075712</td>\n",
       "      <td>1.091454</td>\n",
       "      <td>0.702399</td>\n",
       "      <td>0.702399</td>\n",
       "      <td>0.715892</td>\n",
       "      <td>0.723388</td>\n",
       "      <td>0.720390</td>\n",
       "      <td>0.730135</td>\n",
       "      <td>0.714393</td>\n",
       "    </tr>\n",
       "    <tr>\n",
       "      <th>2023-05-08</th>\n",
       "      <td>CO</td>\n",
       "      <td>1.0</td>\n",
       "      <td>1.010471</td>\n",
       "      <td>1.006283</td>\n",
       "      <td>1.019895</td>\n",
       "      <td>0.997906</td>\n",
       "      <td>1.006283</td>\n",
       "      <td>0.991623</td>\n",
       "      <td>1.007330</td>\n",
       "      <td>1.003141</td>\n",
       "      <td>1.008377</td>\n",
       "    </tr>\n",
       "    <tr>\n",
       "      <th>2023-05-15</th>\n",
       "      <td>CO</td>\n",
       "      <td>1.0</td>\n",
       "      <td>0.985432</td>\n",
       "      <td>1.001041</td>\n",
       "      <td>0.996878</td>\n",
       "      <td>1.002081</td>\n",
       "      <td>1.015609</td>\n",
       "      <td>1.006244</td>\n",
       "      <td>0.993757</td>\n",
       "      <td>0.976067</td>\n",
       "      <td>0.978148</td>\n",
       "    </tr>\n",
       "    <tr>\n",
       "      <th>2023-06-05</th>\n",
       "      <td>CO</td>\n",
       "      <td>1.0</td>\n",
       "      <td>0.986037</td>\n",
       "      <td>0.973147</td>\n",
       "      <td>0.953813</td>\n",
       "      <td>0.940924</td>\n",
       "      <td>0.922664</td>\n",
       "      <td>0.925886</td>\n",
       "      <td>1.020408</td>\n",
       "      <td>1.017186</td>\n",
       "      <td>1.034372</td>\n",
       "    </tr>\n",
       "  </tbody>\n",
       "</table>\n",
       "<p>1416389 rows × 11 columns</p>\n",
       "</div>"
      ],
      "text/plain": [
       "                  State    0         1         2         3         4  \\\n",
       "Ticker Date                                                            \n",
       "A      2013-07-08    CA  1.0  1.005410  1.021416  1.030658  1.031335   \n",
       "       2013-07-15    CA  1.0  0.995663  0.989156  0.995446  1.001952   \n",
       "       2013-07-22    CA  1.0  0.992949  0.999145  0.997009  0.974359   \n",
       "       2013-07-29    CA  1.0  0.989193  0.986546  1.015439  1.022938   \n",
       "       2013-08-05    CA  1.0  1.003047  1.007401  0.998041  1.006095   \n",
       "...                 ...  ...       ...       ...       ...       ...   \n",
       "ZYXI   2023-04-24    CO  1.0  0.976231  0.947368  0.956706  0.971138   \n",
       "       2023-05-01    CO  1.0  1.075712  1.091454  0.702399  0.702399   \n",
       "       2023-05-08    CO  1.0  1.010471  1.006283  1.019895  0.997906   \n",
       "       2023-05-15    CO  1.0  0.985432  1.001041  0.996878  1.002081   \n",
       "       2023-06-05    CO  1.0  0.986037  0.973147  0.953813  0.940924   \n",
       "\n",
       "                          5         6         7         8         9  \n",
       "Ticker Date                                                          \n",
       "A      2013-07-08  1.039450  1.034941  1.028179  1.034716  1.041479  \n",
       "       2013-07-15  1.014964  1.007807  1.014097  1.011928  0.988939  \n",
       "       2013-07-22  0.968803  0.958333  0.955769  0.983761  0.991026  \n",
       "       2013-07-29  1.013233  1.016321  1.020732  1.011248  1.019409  \n",
       "       2013-08-05  1.011101  1.021332  1.012408  1.022203  1.018502  \n",
       "...                     ...       ...       ...       ...       ...  \n",
       "ZYXI   2023-04-24  1.132428  1.218166  1.235993  0.795416  0.795416  \n",
       "       2023-05-01  0.715892  0.723388  0.720390  0.730135  0.714393  \n",
       "       2023-05-08  1.006283  0.991623  1.007330  1.003141  1.008377  \n",
       "       2023-05-15  1.015609  1.006244  0.993757  0.976067  0.978148  \n",
       "       2023-06-05  0.922664  0.925886  1.020408  1.017186  1.034372  \n",
       "\n",
       "[1416389 rows x 11 columns]"
      ]
     },
     "execution_count": 62,
     "metadata": {},
     "output_type": "execute_result"
    }
   ],
   "source": [
    "df = pd.read_parquet(\"data/full.parquet\")\n",
    "\n",
    "df"
   ]
  },
  {
   "cell_type": "code",
   "execution_count": 63,
   "metadata": {},
   "outputs": [],
   "source": [
    "start = pd.to_datetime(\"2015-01-01\")\n",
    "end = pd.to_datetime(\"2020-12-31\")\n",
    "\n",
    "df = df.loc[(df.index.get_level_values(\"Date\") >= start) & (df.index.get_level_values(\"Date\") <= end)]"
   ]
  },
  {
   "cell_type": "code",
   "execution_count": 64,
   "metadata": {},
   "outputs": [],
   "source": [
    "abbrevs = [\n",
    "    \"WA\", \"OR\", \"CA\", \"NV\", \"HI\", \"AK\", \"ID\", \"MT\", \"WY\", \"UT\", \"CO\", # West\n",
    "    \"AZ\", \"NM\", \"TX\", \"OK\", # Southwest\n",
    "    \"ND\", \"SD\", \"NE\", \"KS\", \"MN\", \"IA\", \"MO\", \"WI\", \"IL\", \"MI\", \"IN\", \"OH\", # Midwest\n",
    "    \"AR\", \"LA\", \"MS\", \"AL\", \"TN\", \"KY\", \"WV\", \"VA\", \"NC\", \"SC\", \"GA\", \"FL\", # Southeast\n",
    "    \"PA\", \"NY\", \"VT\", \"NH\", \"ME\", \"MA\", \"RI\", \"CT\", \"NJ\", \"DE\", \"MD\" # Northeast\n",
    "]\n",
    "\n",
    "df = df[df[\"State\"].isin(abbrevs)]"
   ]
  },
  {
   "cell_type": "code",
   "execution_count": 65,
   "metadata": {},
   "outputs": [],
   "source": [
    "df.loc[df[\"State\"].isin(abbrevs[0:11]), \"Region\"] = \"W\"\n",
    "df.loc[df[\"State\"].isin(abbrevs[11:15]), \"Region\"] = \"SW\"\n",
    "df.loc[df[\"State\"].isin(abbrevs[15:27]), \"Region\"] = \"MW\"\n",
    "df.loc[df[\"State\"].isin(abbrevs[27:39]), \"Region\"] = \"SE\"\n",
    "df.loc[df[\"State\"].isin(abbrevs[39:50]), \"Region\"] = \"NE\""
   ]
  },
  {
   "cell_type": "code",
   "execution_count": 66,
   "metadata": {},
   "outputs": [],
   "source": [
    "df.to_csv(\"data/partial.csv\")"
   ]
  },
  {
   "cell_type": "markdown",
   "metadata": {},
   "source": [
    "# Descriptive Analytics"
   ]
  },
  {
   "cell_type": "markdown",
   "metadata": {},
   "source": [
    "### Summarization"
   ]
  },
  {
   "cell_type": "code",
   "execution_count": 67,
   "metadata": {},
   "outputs": [
    {
     "name": "stdout",
     "output_type": "stream",
     "text": [
      "Mean Region\n",
      "MW    1.001697\n",
      "NE    1.018740\n",
      "SE    1.003366\n",
      "SW    1.008374\n",
      "W     1.034683\n",
      "Name: 9, dtype: float64\n",
      "\n",
      "Median Region\n",
      "MW    1.001076\n",
      "NE    1.000000\n",
      "SE    1.000504\n",
      "SW    0.999298\n",
      "W     1.000000\n",
      "Name: 9, dtype: float64\n"
     ]
    }
   ],
   "source": [
    "# Stock Performance by Region\n",
    "\n",
    "print(\"Mean\", df.groupby(\"Region\")[\"9\"].mean())\n",
    "print(\"\\nMedian\", df.groupby(\"Region\")[\"9\"].median())"
   ]
  },
  {
   "cell_type": "code",
   "execution_count": 68,
   "metadata": {},
   "outputs": [
    {
     "name": "stdout",
     "output_type": "stream",
     "text": [
      "Std Dev Region\n",
      "MW     0.114671\n",
      "NE     6.688283\n",
      "SE     0.154135\n",
      "SW     1.354834\n",
      "W     11.098918\n",
      "Name: 9, dtype: float64\n",
      "\n",
      "Sharpe Ratio Region\n",
      "MW   -0.002782\n",
      "NE    0.002501\n",
      "SE    0.008758\n",
      "SW    0.004693\n",
      "W     0.002943\n",
      "Name: 9, dtype: float64\n"
     ]
    }
   ],
   "source": [
    "# Volatility Analysis\n",
    "\n",
    "print(\"Std Dev\", df.groupby(\"Region\")[\"9\"].std())\n",
    "print(\"\\nSharpe Ratio\", (df.groupby(\"Region\")[\"9\"].apply(lambda x: (x - 1.00201615337).mean() / x.std()))) # Risk free rate of return on 3-month T-bill is 5.26% as of May 2, 2024"
   ]
  },
  {
   "cell_type": "code",
   "execution_count": 69,
   "metadata": {},
   "outputs": [
    {
     "data": {
      "text/plain": [
       "Region\n",
       "MW     533\n",
       "NE    1014\n",
       "SE     552\n",
       "SW     447\n",
       "W      844\n",
       "Name: Ticker, dtype: int64"
      ]
     },
     "execution_count": 69,
     "metadata": {},
     "output_type": "execute_result"
    }
   ],
   "source": [
    "# Frequency Distribution\n",
    "\n",
    "df.reset_index().groupby(\"Region\")[\"Ticker\"].nunique()"
   ]
  },
  {
   "cell_type": "markdown",
   "metadata": {},
   "source": [
    "# Diagnostic Analytics"
   ]
  },
  {
   "cell_type": "markdown",
   "metadata": {},
   "source": [
    "### Anomalies/Outlier Analysis"
   ]
  },
  {
   "cell_type": "code",
   "execution_count": 70,
   "metadata": {},
   "outputs": [],
   "source": [
    "# Identify Outliers\n",
    "\n",
    "q1 = df[\"9\"].quantile(0.25)\n",
    "q3 = df[\"9\"].quantile(0.75)\n",
    "\n",
    "iqr = q3 - q1\n",
    "\n",
    "outliers_df = df[(df[\"9\"] < (q1 - 1.5 * iqr)) | (df[\"9\"] > (q3 + 1.5 * iqr))]"
   ]
  },
  {
   "cell_type": "code",
   "execution_count": 71,
   "metadata": {},
   "outputs": [
    {
     "name": "stdout",
     "output_type": "stream",
     "text": [
      "Count Region\n",
      "MW     5797\n",
      "NE    16742\n",
      "SE     7858\n",
      "SW     8480\n",
      "W     15538\n",
      "Name: 9, dtype: int64\n",
      "\n",
      "Mean Region\n",
      "MW    1.019890\n",
      "NE    1.216714\n",
      "SE    1.040459\n",
      "SW    1.100704\n",
      "W     1.321339\n",
      "Name: 9, dtype: float64\n",
      "\n",
      "Median Region\n",
      "MW    0.841865\n",
      "NE    0.842152\n",
      "SE    1.157223\n",
      "SW    1.156250\n",
      "W     1.160249\n",
      "Name: 9, dtype: float64\n",
      "\n",
      "Std Dev Region\n",
      "MW     0.425906\n",
      "NE    21.899429\n",
      "SE     0.518370\n",
      "SW     4.190699\n",
      "W     33.422892\n",
      "Name: 9, dtype: float64\n",
      "\n",
      "Sharpe Ratio Region\n",
      "MW    0.041966\n",
      "NE    0.009804\n",
      "SE    0.074160\n",
      "SW    0.023549\n",
      "W     0.009554\n",
      "Name: 9, dtype: float64\n"
     ]
    }
   ],
   "source": [
    "# Examine Outliers\n",
    "\n",
    "print(\"Count\", outliers_df.groupby(\"Region\")[\"9\"].count())\n",
    "print(\"\\nMean\", outliers_df.groupby(\"Region\")[\"9\"].mean())\n",
    "print(\"\\nMedian\", outliers_df.groupby(\"Region\")[\"9\"].median())\n",
    "print(\"\\nStd Dev\", outliers_df.groupby(\"Region\")[\"9\"].std())\n",
    "print(\"\\nSharpe Ratio\", (outliers_df.groupby(\"Region\")[\"9\"].apply(lambda x: (x - 1.00201615337).mean() / x.std())))\n",
    "\n",
    "del outliers_df"
   ]
  },
  {
   "cell_type": "markdown",
   "metadata": {},
   "source": [
    "### Variance Analysis"
   ]
  },
  {
   "cell_type": "code",
   "execution_count": 72,
   "metadata": {},
   "outputs": [
    {
     "name": "stdout",
     "output_type": "stream",
     "text": [
      "F: 0.5454531044129213\n",
      "p: 0.7023604403793813\n"
     ]
    }
   ],
   "source": [
    "# ANOVA\n",
    "\n",
    "F, p = anova(*[df.loc[df[\"Region\"] == region, \"9\"] for region in df[\"Region\"].unique()])\n",
    "\n",
    "print(\"F:\", F)\n",
    "print(\"p:\", p)"
   ]
  },
  {
   "cell_type": "code",
   "execution_count": 73,
   "metadata": {},
   "outputs": [
    {
     "name": "stdout",
     "output_type": "stream",
     "text": [
      "F: 158.76148379411268\n",
      "p: 2.6948452743477224e-33\n"
     ]
    }
   ],
   "source": [
    "# Kruskal-Wallis\n",
    "\n",
    "F, p = kruskal(*[df.loc[df[\"Region\"] == region, \"9\"] for region in df[\"Region\"].unique()])\n",
    "\n",
    "print(\"F:\", F)\n",
    "print(\"p:\", p)"
   ]
  },
  {
   "cell_type": "markdown",
   "metadata": {},
   "source": [
    "# Predictive Analytics"
   ]
  },
  {
   "cell_type": "markdown",
   "metadata": {},
   "source": [
    "### Regression Analysis"
   ]
  },
  {
   "cell_type": "code",
   "execution_count": 74,
   "metadata": {},
   "outputs": [],
   "source": [
    "# Target Encoding\n",
    "\n",
    "df[\"Location\"] = TargetEncoder().fit_transform(df[[\"State\"]], df[\"9\"])"
   ]
  },
  {
   "cell_type": "code",
   "execution_count": 75,
   "metadata": {},
   "outputs": [
    {
     "name": "stdout",
     "output_type": "stream",
     "text": [
      "With Location                             OLS Regression Results                            \n",
      "==============================================================================\n",
      "Dep. Variable:                      9   R-squared:                       0.995\n",
      "Model:                            OLS   Adj. R-squared:                  0.995\n",
      "Method:                 Least Squares   F-statistic:                 1.398e+07\n",
      "Date:                Fri, 03 May 2024   Prob (F-statistic):               0.00\n",
      "Time:                        12:04:42   Log-Likelihood:            -3.7454e+05\n",
      "No. Observations:              604800   AIC:                         7.491e+05\n",
      "Df Residuals:                  604790   BIC:                         7.492e+05\n",
      "Df Model:                           9                                         \n",
      "Covariance Type:            nonrobust                                         \n",
      "==============================================================================\n",
      "                 coef    std err          t      P>|t|      [0.025      0.975]\n",
      "------------------------------------------------------------------------------\n",
      "0             -0.0190      0.022     -0.857      0.391      -0.063       0.024\n",
      "1             -0.0643      0.007     -9.197      0.000      -0.078      -0.051\n",
      "2              0.0987      0.001    121.543      0.000       0.097       0.100\n",
      "3              0.0253      0.007      3.609      0.000       0.012       0.039\n",
      "4             -0.0151      0.007     -2.101      0.036      -0.029      -0.001\n",
      "5              0.0562      0.008      6.635      0.000       0.040       0.073\n",
      "6              0.0270      0.010      2.690      0.007       0.007       0.047\n",
      "7             -0.0290      0.011     -2.729      0.006      -0.050      -0.008\n",
      "8              0.9355      0.007    129.781      0.000       0.921       0.950\n",
      "Location      -0.0141      0.021     -0.676      0.499      -0.055       0.027\n",
      "================================================================================\n",
      "Omnibus:                  4171215.960   Durbin-Watson:                     2.000\n",
      "Prob(Omnibus):                  0.000   Jarque-Bera (JB):   7930505931442035.000\n",
      "Skew:                         736.987   Prob(JB):                           0.00\n",
      "Kurtosis:                  560984.679   Cond. No.                           819.\n",
      "================================================================================\n",
      "\n",
      "Notes:\n",
      "[1] Standard Errors assume that the covariance matrix of the errors is correctly specified.\n",
      "\n",
      "Without Location                             OLS Regression Results                            \n",
      "==============================================================================\n",
      "Dep. Variable:                      9   R-squared:                       0.995\n",
      "Model:                            OLS   Adj. R-squared:                  0.995\n",
      "Method:                 Least Squares   F-statistic:                 1.573e+07\n",
      "Date:                Fri, 03 May 2024   Prob (F-statistic):               0.00\n",
      "Time:                        12:04:42   Log-Likelihood:            -3.7454e+05\n",
      "No. Observations:              604800   AIC:                         7.491e+05\n",
      "Df Residuals:                  604791   BIC:                         7.492e+05\n",
      "Df Model:                           8                                         \n",
      "Covariance Type:            nonrobust                                         \n",
      "==============================================================================\n",
      "                 coef    std err          t      P>|t|      [0.025      0.975]\n",
      "------------------------------------------------------------------------------\n",
      "0             -0.0333      0.007     -4.849      0.000      -0.047      -0.020\n",
      "1             -0.0644      0.007     -9.198      0.000      -0.078      -0.051\n",
      "2              0.0987      0.001    121.544      0.000       0.097       0.100\n",
      "3              0.0253      0.007      3.609      0.000       0.012       0.039\n",
      "4             -0.0151      0.007     -2.101      0.036      -0.029      -0.001\n",
      "5              0.0562      0.008      6.636      0.000       0.040       0.073\n",
      "6              0.0270      0.010      2.691      0.007       0.007       0.047\n",
      "7             -0.0290      0.011     -2.731      0.006      -0.050      -0.008\n",
      "8              0.9355      0.007    129.781      0.000       0.921       0.950\n",
      "================================================================================\n",
      "Omnibus:                  4171216.384   Durbin-Watson:                     2.000\n",
      "Prob(Omnibus):                  0.000   Jarque-Bera (JB):   7930514407903944.000\n",
      "Skew:                         736.988   Prob(JB):                           0.00\n",
      "Kurtosis:                  560984.978   Cond. No.                           351.\n",
      "================================================================================\n",
      "\n",
      "Notes:\n",
      "[1] Standard Errors assume that the covariance matrix of the errors is correctly specified.\n",
      "\n",
      "Only Location                             OLS Regression Results                            \n",
      "==============================================================================\n",
      "Dep. Variable:                      9   R-squared:                       0.000\n",
      "Model:                            OLS   Adj. R-squared:                 -0.000\n",
      "Method:                 Least Squares   F-statistic:                    0.2557\n",
      "Date:                Fri, 03 May 2024   Prob (F-statistic):              0.613\n",
      "Time:                        12:04:42   Log-Likelihood:            -1.9901e+06\n",
      "No. Observations:              604800   AIC:                         3.980e+06\n",
      "Df Residuals:                  604798   BIC:                         3.980e+06\n",
      "Df Model:                           1                                         \n",
      "Covariance Type:            nonrobust                                         \n",
      "==============================================================================\n",
      "                 coef    std err          t      P>|t|      [0.025      0.975]\n",
      "------------------------------------------------------------------------------\n",
      "const          1.1700      0.305      3.831      0.000       0.571       1.768\n",
      "Location      -0.1520      0.301     -0.506      0.613      -0.741       0.437\n",
      "================================================================================\n",
      "Omnibus:                  3919293.145   Durbin-Watson:                     1.999\n",
      "Prob(Omnibus):                  0.000   Jarque-Bera (JB):   2893187249000942.500\n",
      "Skew:                         572.660   Prob(JB):                           0.00\n",
      "Kurtosis:                  338835.859   Cond. No.                           73.1\n",
      "================================================================================\n",
      "\n",
      "Notes:\n",
      "[1] Standard Errors assume that the covariance matrix of the errors is correctly specified.\n"
     ]
    }
   ],
   "source": [
    "# Regression Analysis\n",
    "\n",
    "X = df.drop(columns=[\"State\", \"Region\", \"9\"])\n",
    "y = df[\"9\"]\n",
    "\n",
    "model = sm.OLS(y, X)\n",
    "\n",
    "results = model.fit()\n",
    "\n",
    "print(\"With Location\", results.summary())\n",
    "\n",
    "X = df.drop(columns=[\"State\", \"Region\", \"Location\", \"9\"])\n",
    "y = df[\"9\"]\n",
    "\n",
    "model = sm.OLS(y, X)\n",
    "\n",
    "results = model.fit()\n",
    "\n",
    "print(\"\\nWithout Location\", results.summary())\n",
    "\n",
    "X = sm.add_constant(df[\"Location\"])\n",
    "y = df[\"9\"]\n",
    "\n",
    "model = sm.OLS(y, X)\n",
    "\n",
    "results = model.fit()\n",
    "\n",
    "print(\"\\nOnly Location\", results.summary())\n",
    "\n",
    "del X, y"
   ]
  },
  {
   "cell_type": "markdown",
   "metadata": {},
   "source": [
    "### Cluster Analysis"
   ]
  },
  {
   "cell_type": "code",
   "execution_count": 76,
   "metadata": {},
   "outputs": [
    {
     "name": "stdout",
     "output_type": "stream",
     "text": [
      "199.487 --> 200.159 --> 200.468 --> 200.529 --> 200.535 --> 200.538 --> 200.541 --> 200.542 --> 200.546 --> 200.549 --> \n"
     ]
    }
   ],
   "source": [
    "# Clustering\n",
    "\n",
    "sample_df = df.sample(1000)\n",
    "\n",
    "model = TimeSeriesKMeans(n_clusters=5, metric=\"softdtw\", max_iter=10, n_jobs=-1, random_state=0, verbose=True)\n",
    "\n",
    "sample_df[\"Cluster\"] = model.fit_predict(sample_df[[\"0\", \"1\", \"2\", \"3\", \"4\", \"5\", \"6\", \"7\", \"8\", \"9\"]])\n",
    "\n",
    "sample_df[\"Cluster\"].to_csv(\"data/clustered.csv\")"
   ]
  },
  {
   "cell_type": "markdown",
   "metadata": {},
   "source": [
    "# Prescriptive Analytics"
   ]
  },
  {
   "cell_type": "markdown",
   "metadata": {},
   "source": [
    "### Optimization"
   ]
  },
  {
   "cell_type": "code",
   "execution_count": 77,
   "metadata": {},
   "outputs": [
    {
     "name": "stdout",
     "output_type": "stream",
     "text": [
      "OrderedDict([('MW', 0.0), ('NE', 0.0), ('SE', 0.0), ('SW', 0.97905), ('W', 0.02095)])\n",
      "Expected annual return: 8.6%\n",
      "Annual volatility: 135.4%\n",
      "Sharpe Ratio: 0.05\n"
     ]
    },
    {
     "data": {
      "image/png": "[encoded data removed]",
      "text/plain": [
       "<Figure size 640x480 with 1 Axes>"
      ]
     },
     "metadata": {},
     "output_type": "display_data"
    }
   ],
   "source": [
    "# Markowitz Portfolio\n",
    "\n",
    "prices = df.pivot_table(index=\"Date\", columns=\"Region\", values=\"9\", aggfunc=\"mean\")\n",
    "\n",
    "mu = expected_returns.mean_historical_return(prices)\n",
    "S = risk_models.sample_cov(prices)\n",
    "\n",
    "ef = EfficientFrontier(mu, S)\n",
    "\n",
    "weights = ef.max_sharpe()\n",
    "clean_weights = ef.clean_weights()\n",
    "\n",
    "print(clean_weights)\n",
    "\n",
    "ef.portfolio_performance(verbose=True)\n",
    "\n",
    "ef = EfficientFrontier(mu, S)\n",
    "\n",
    "fig, ax = plt.subplots()\n",
    "ef_max_sharpe = ef.deepcopy()\n",
    "\n",
    "# Find the tangency portfolio\n",
    "ef_max_sharpe.max_sharpe()\n",
    "ret_tangent, std_tangent, _ = ef_max_sharpe.portfolio_performance()\n",
    "ax.scatter(std_tangent, ret_tangent, marker=\"*\", s=100, c=\"r\", label=\"Max Sharpe\")\n",
    "\n",
    "# Generate random portfolios\n",
    "n_samples = 10000\n",
    "w = np.random.dirichlet(np.ones(ef.n_assets), n_samples)\n",
    "rets = w.dot(ef.expected_returns)\n",
    "stds = np.sqrt(np.diag(w @ ef.cov_matrix @ w.T))\n",
    "sharpes = rets / stds\n",
    "ax.scatter(stds, rets, marker=\".\", c=sharpes, cmap=\"Reds\")\n",
    "\n",
    "# Output\n",
    "ax.set_title(\"Efficient Frontier With Random Portfolios\")\n",
    "ax.legend()\n",
    "plt.tight_layout()\n",
    "plt.show()"
   ]
  }
 ],
 "metadata": {
  "kernelspec": {
   "display_name": "Python 3",
   "language": "python",
   "name": "python3"
  },
  "language_info": {
   "codemirror_mode": {
    "name": "ipython",
    "version": 3
   },
   "file_extension": ".py",
   "mimetype": "text/x-python",
   "name": "python",
   "nbconvert_exporter": "python",
   "pygments_lexer": "ipython3",
   "version": "3.10.10"
  }
 },
 "nbformat": 4,
 "nbformat_minor": 2
}
